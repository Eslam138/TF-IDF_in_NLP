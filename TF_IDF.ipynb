{
  "nbformat": 4,
  "nbformat_minor": 0,
  "metadata": {
    "colab": {
      "name": "TF-IDF.ipynb",
      "provenance": [],
      "collapsed_sections": []
    },
    "kernelspec": {
      "name": "python3",
      "display_name": "Python 3"
    },
    "language_info": {
      "name": "python"
    }
  },
  "cells": [
    {
      "cell_type": "code",
      "execution_count": null,
      "metadata": {
        "id": "uRUzO4X7LeSG"
      },
      "outputs": [],
      "source": [
        "import numpy as np\n",
        "import re\n",
        "import string"
      ]
    },
    {
      "cell_type": "code",
      "source": [
        "TAG_RE=re.compile(r'<[^>]+>')\n",
        "def remove_tags(sen):\n",
        "    return TAG_RE.sub(' ',sen)\n",
        "def preprocessing_text(sen):\n",
        "    sentence=remove_tags(sen)\n",
        "    sentence=re.sub('[^a-zA-Z]',' ',sentence)\n",
        "    #sentence=re.sub(r'\\s+[a-zA-Z]\\s+',' ',sentence)\n",
        "    sentence=re.sub(r'\\s+',' ',sentence)\n",
        "    sentence=sentence.lower()\n",
        "    return sentence\n",
        "preprocessing_text(\"<h2>Ahmed123456@gamil.com  asd12345678 xvcxc<h1>\").split()"
      ],
      "metadata": {
        "colab": {
          "base_uri": "https://localhost:8080/"
        },
        "id": "nnzGDzETNtnp",
        "outputId": "635ceee3-eca8-4cb9-fc84-075bef1c20c4"
      },
      "execution_count": null,
      "outputs": [
        {
          "output_type": "execute_result",
          "data": {
            "text/plain": [
              "['ahmed', 'gamil', 'com', 'asd', 'xvcxc']"
            ]
          },
          "metadata": {},
          "execution_count": 2
        }
      ]
    },
    {
      "cell_type": "code",
      "source": [
        "def word_conut(file,dic):\n",
        "    dic1={x:0 for x in set(dic.split())}\n",
        "    for x in file.split():\n",
        "        if x in dic1.keys(): \n",
        "            dic1[f'{x}'] +=1\n",
        "    return dic1"
      ],
      "metadata": {
        "id": "R_I512JcQSLs"
      },
      "execution_count": null,
      "outputs": []
    },
    {
      "cell_type": "code",
      "source": [
        "def TF(doc):\n",
        "    tf={}\n",
        "    for key, value in doc.items() :\n",
        "        tf[f'{key}']=value/sum(doc.values())\n",
        "    return tf\n"
      ],
      "metadata": {
        "id": "HSb09qj0c4NL"
      },
      "execution_count": null,
      "outputs": []
    },
    {
      "cell_type": "code",
      "source": [
        "def IDF(dic,n,*args):\n",
        "    dic_temp={x:0 for x in set(dic.split())}\n",
        "    for key in dic_temp.keys():\n",
        "        sum=0\n",
        "        for x in args:\n",
        "            if key in x.keys():\n",
        "                if x[f\"{key}\"]>0:\n",
        "                    sum += 1\n",
        "        if sum==0:\n",
        "            sum=0.00000001\n",
        "        dic_temp[f\"{key}\"]=np.log10(n/sum)\n",
        "    return dic_temp"
      ],
      "metadata": {
        "id": "5vdVAmQalpnB"
      },
      "execution_count": null,
      "outputs": []
    },
    {
      "cell_type": "code",
      "source": [
        "def TF_IDF(TF,IDF):\n",
        "        return {f'{key}':TF[f'{key}']*IDF[f'{key}'] for key in IDF.keys()}\n"
      ],
      "metadata": {
        "id": "t7SLMDOPqIHr"
      },
      "execution_count": null,
      "outputs": []
    },
    {
      "cell_type": "code",
      "source": [
        "sen1_1='computer science, the study of computers and computing, including their theoretical and algorithmic foundations, hardware and software, and their uses for processing information. The discipline of computer science includes the study of algorithms and data structures, computer and network design, modeling data and information processes, and artificial intelligence. Computer science draws some of its foundations from mathematics and engineering and therefore incorporates techniques from areas such as queueing theory, probability and statistics, and electronic circuit design. Computer science also makes heavy use of hypothesis testing and experimentation during the conceptualization, design, measurement, and refinement of new algorithms, information structures, and computer architectures.'\n",
        "sen2_1='Computer science is the study of computation, automation, and information.[1] Computer science spans theoretical disciplines (such as algorithms, theory of computation, and information theory) to practical disciplines (including the design and implementation of hardware and software).[2][3] Computer science is generally considered an area of academic research and distinct from computer programming.[4] Algorithms and data structures are central to computer science.[5] The theory of computation concerns abstract models of computation and general classes of problems that can be solved using them. The fields of cryptography and computer security involve studying the means for secure communication and for preventing security vulnerabilities. Computer graphics and computational geometry address the generation of images. Programming language theory considers approaches to the description of computational processes, and database theory concerns the management of repositories of data. Human–computer interaction investigates the interfaces through which humans and computers interact, and software engineering focuses on the design and principles behind developing software. Areas such as operating systems, networks and embedded systems investigate the principles and design behind complex systems. Computer architecture describes the construction of computer components and computer-operated equipment. Artificial intelligence and machine learning aim to synthesize goal-orientated processes such as problem-solving, decision-making, environmental adaptation, planning and learning found in humans and animals. Within artificial intelligence, computer vision aims to understand and process image and video data, while natural-language processing aims to understand and process textual and linguistic data.The fundamental concern of computer science is determining what can and cannot be automated.[6][7][8][9][10] The Turing Award is generally recognized as the highest distinction in computer science'\n",
        "sen1_2='Information technology (IT) is the use of any computers, storage, networking and other physical devices, infrastructure and processes to create, process, store, secure and exchange all forms of electronic data. Typically, IT is used in the context of business operations, as opposed to technology used for personal or entertainment purposes. The commercial use of IT encompasses both computer technology and telecommunications.The Harvard Business Review coined the term information technology to make a distinction between purpose-built machines designed to perform a limited scope of functions, and general-purpose computing machines that could be programmed for various tasks. As the IT industry evolved from the mid-20th century, computing capability increased, while device cost and energy consumption decreased, a cycle that continues today when new technologies emerge.'\n",
        "sen2_2='Information technology (IT) is the use of computers to create, process, store, retrieve, and exchange all kinds of electronic data[1] and information. IT is typically used within the context of business operations as opposed to personal or entertainment technologies.[2] IT is considered to be a subset of information and communications technology (ICT). An information technology system (IT system) is generally an information system, a communications system, or, more specifically speaking, a computer system — including all hardware, software, and peripheral equipment — operated by a limited group of IT users. Humans have been storing, retrieving, manipulating, and communicating information since the Sumerians in Mesopotamia developed writing in about 3000 BC.[3] However, the term information technology in its modern sense first appeared in a 1958 article published in the Harvard Business Review; authors Harold J. Leavitt and Thomas L. Whisler commented that \"the new technology does not yet have a single established name. We shall call it information technology (IT).\"[4] Their definition consists of three categories: techniques for processing, the application of statistical and mathematical methods to decision-making, and the simulation of higher-order thinking through computer programs.[4] The term is commonly used as a synonym for computers and computer networks, but it also encompasses other information distribution technologies such as television and telephones. Several products or services within an economy are associated with information technology, including computer hardware, software, electronics, semiconductors, internet, telecom equipment, and e-commerce.[5][a] Based on the storage and processing technologies employed, it is possible to distinguish four distinct phases of IT development: pre-mechanical (3000 BC — 1450 AD), mechanical (1450—1840), electromechanical (1840—1940), and electronic (1940 to present).[3] This article focuses on the most recent period (electronic)Information technology is also a branch of computer science, which can be defined as the overall study of procedure, structure, and the processing of various types of data. As this field continues to evolve across the world, the overall priority and importance has also grown, which is where we begin to see the introduction of computer science-related courses in K-12 education. However, concerns have been raised about this fact that most schools are lacking advanced-placement courses in this field.[7]'"
      ],
      "metadata": {
        "id": "U_X95Xziun2I"
      },
      "execution_count": null,
      "outputs": []
    },
    {
      "cell_type": "code",
      "source": [
        "\n",
        "s1=preprocessing_text(sen1_1)\n",
        "s2=preprocessing_text(sen1_2)\n",
        "s3=preprocessing_text(sen2_1)\n",
        "s4=preprocessing_text(sen2_2)\n",
        "\n",
        "s=s1+\" \"+s2+\" \"+s3+\" \"+s4\n",
        "print(len(set(s.split())))\n"
      ],
      "metadata": {
        "colab": {
          "base_uri": "https://localhost:8080/"
        },
        "id": "mdsKa-x4feZ0",
        "outputId": "bbda686c-4e1f-4ccd-da6d-f3b19831b10f"
      },
      "execution_count": null,
      "outputs": [
        {
          "output_type": "stream",
          "name": "stdout",
          "text": [
            "367\n"
          ]
        }
      ]
    },
    {
      "cell_type": "code",
      "source": [
        "s1_tf=word_conut(s1,s)\n",
        "s2_tf=word_conut(s2,s)\n",
        "s3_tf=word_conut(s3,s)\n",
        "s4_tf=word_conut(s4,s)\n"
      ],
      "metadata": {
        "id": "NsS5JooOU4CG"
      },
      "execution_count": null,
      "outputs": []
    },
    {
      "cell_type": "code",
      "source": [
        "s_tf={f'{x}':s1_tf[f'{x}']+s2_tf[f'{x}']+s3_tf[f'{x}']+s4_tf[f'{x}'] for x in s.split()}\n"
      ],
      "metadata": {
        "id": "GfZoWY4sciKe"
      },
      "execution_count": null,
      "outputs": []
    },
    {
      "cell_type": "code",
      "source": [
        "tf_idf1=TF_IDF(TF(s1_tf),IDF(s,4,s1_tf,s2_tf,s3_tf,s4_tf))\n",
        "tf_idf2=TF_IDF(TF(s2_tf),IDF(s,4,s1_tf,s2_tf,s3_tf,s4_tf))\n",
        "tf_idf3=TF_IDF(TF(s3_tf),IDF(s,4,s1_tf,s2_tf,s3_tf,s4_tf))\n",
        "tf_idf4=TF_IDF(TF(s4_tf),IDF(s,4,s1_tf,s2_tf,s3_tf,s4_tf))"
      ],
      "metadata": {
        "id": "L4nxBpnYi7JT"
      },
      "execution_count": null,
      "outputs": []
    },
    {
      "cell_type": "code",
      "source": [
        "test1='Software engineering is a detailed study of engineering to the design, development and maintenance of software. Software engineering was introduced to address the issues of low-quality software projects. Problems arise when a software generally exceeds timelines, budgets, and reduced levels of quality. It ensures that the application is built consistently, correctly, on time and on budget and within requirements. The demand of software engineering also emerged to cater to the immense rate of change in user requirements and environment on which application is supposed to be working.'\n",
        "test2='A computer network is a set of computers sharing resources located on or provided by network nodes. The computers use common communication protocols over digital interconnections to communicate with each other. These interconnections are made up of telecommunication network technologies, based on physically wired, optical, and wireless radio-frequency methods that may be arranged in a variety of network topologies.'"
      ],
      "metadata": {
        "id": "o8u5DJCNjMsK"
      },
      "execution_count": null,
      "outputs": []
    },
    {
      "cell_type": "code",
      "source": [
        "test1=preprocessing_text(test1)\n",
        "test2=preprocessing_text(test2)\n",
        "s_test=test1+\" \"+test2\n",
        "\n",
        "test1_tf=word_conut(test1,s)\n",
        "test2_tf=word_conut(test2,s)"
      ],
      "metadata": {
        "id": "7yV4eexrp14f"
      },
      "execution_count": null,
      "outputs": []
    },
    {
      "cell_type": "code",
      "source": [
        "tf_idf_test1=TF_IDF(TF(test1_tf),IDF(s,2,test1_tf,test2_tf))\n",
        "tf_idf_test2=TF_IDF(TF(test2_tf),IDF(s,2,test1_tf,test2_tf))"
      ],
      "metadata": {
        "id": "PhbiKFHx36Pn"
      },
      "execution_count": null,
      "outputs": []
    },
    {
      "cell_type": "code",
      "source": [
        ""
      ],
      "metadata": {
        "id": "W3sHlUw_zxY6"
      },
      "execution_count": null,
      "outputs": []
    },
    {
      "cell_type": "code",
      "source": [
        "from scipy.stats import mode\n",
        "\n",
        "def eucledian(p1,p2):\n",
        "    p1=np.array(list(p1))\n",
        "    p2=np.array(list(p2))\n",
        "    dist = np.sqrt(np.sum((p1-p2)**2))\n",
        "    return dist\n"
      ],
      "metadata": {
        "id": "S22f_vXT0Vq_"
      },
      "execution_count": null,
      "outputs": []
    },
    {
      "cell_type": "code",
      "source": [
        "dis1=eucledian(tf_idf_test1.values(),tf_idf1.values())\n",
        "dis2=eucledian(tf_idf_test1.values(),tf_idf2.values())\n",
        "dis3=eucledian(tf_idf_test1.values(),tf_idf3.values())\n",
        "dis4=eucledian(tf_idf_test1.values(),tf_idf4.values())\n",
        "print(min(dis1,dis2,dis3,dis4))\n",
        "print(dis1,dis2,dis3,dis4)"
      ],
      "metadata": {
        "colab": {
          "base_uri": "https://localhost:8080/"
        },
        "id": "LddlABUK6way",
        "outputId": "30873b60-4d85-47ba-ce8d-8f45a7cb9551"
      },
      "execution_count": null,
      "outputs": [
        {
          "output_type": "stream",
          "name": "stdout",
          "text": [
            "0.0505529126329887\n",
            "0.05418166621368457 0.056960557566748955 0.0505529126329887 0.050775209824107936\n"
          ]
        }
      ]
    },
    {
      "cell_type": "code",
      "source": [
        "dis1=eucledian(tf_idf_test2.values(),tf_idf1.values())\n",
        "dis2=eucledian(tf_idf_test2.values(),tf_idf2.values())\n",
        "dis3=eucledian(tf_idf_test2.values(),tf_idf3.values())\n",
        "dis4=eucledian(tf_idf_test2.values(),tf_idf4.values())\n",
        "print(min(dis1,dis2,dis3,dis4))\n",
        "print(dis1,dis2,dis3,dis4)"
      ],
      "metadata": {
        "colab": {
          "base_uri": "https://localhost:8080/"
        },
        "id": "KkrYZ7CG59GB",
        "outputId": "b5ec5dde-b981-41ae-fd33-328a59940842"
      },
      "execution_count": null,
      "outputs": [
        {
          "output_type": "stream",
          "name": "stdout",
          "text": [
            "0.057850124820122834\n",
            "0.060049800813072755 0.06368644160754512 0.05958347730358427 0.057850124820122834\n"
          ]
        }
      ]
    },
    {
      "cell_type": "code",
      "source": [
        "np.array(list(tf_idf4.values())).shape"
      ],
      "metadata": {
        "colab": {
          "base_uri": "https://localhost:8080/"
        },
        "id": "3jRzDnrX6WaB",
        "outputId": "c4c64bd1-1d10-493c-b087-1ae10e70751e"
      },
      "execution_count": null,
      "outputs": [
        {
          "output_type": "execute_result",
          "data": {
            "text/plain": [
              "(367,)"
            ]
          },
          "metadata": {},
          "execution_count": 18
        }
      ]
    },
    {
      "cell_type": "code",
      "source": [
        "tf_idf_test1=TF_IDF(TF(test1_tf),IDF(s,4,s1_tf,s2_tf,s3_tf,s4_tf))\n",
        "tf_idf_test2=TF_IDF(TF(test2_tf),IDF(s,4,s1_tf,s2_tf,s3_tf,s4_tf))"
      ],
      "metadata": {
        "id": "VMnuURdu7mq0"
      },
      "execution_count": null,
      "outputs": []
    },
    {
      "cell_type": "code",
      "source": [
        "dis1=eucledian(tf_idf_test1.values(),tf_idf1.values())\n",
        "dis2=eucledian(tf_idf_test1.values(),tf_idf2.values())\n",
        "dis3=eucledian(tf_idf_test1.values(),tf_idf3.values())\n",
        "dis4=eucledian(tf_idf_test1.values(),tf_idf4.values())\n",
        "print(min(dis1,dis2,dis3,dis4))\n",
        "print(dis1,dis2,dis3,dis4)"
      ],
      "metadata": {
        "colab": {
          "base_uri": "https://localhost:8080/"
        },
        "id": "GscHN6qmGntd",
        "outputId": "0ffd7ea3-1c06-4eba-de6d-aed8d01b9f81"
      },
      "execution_count": null,
      "outputs": [
        {
          "output_type": "stream",
          "name": "stdout",
          "text": [
            "0.05166840288488918\n",
            "0.0587563557295366 0.05755875772370362 0.05368531247094178 0.05166840288488918\n"
          ]
        }
      ]
    },
    {
      "cell_type": "code",
      "source": [
        "dis1=eucledian(tf_idf_test2.values(),tf_idf1.values())\n",
        "dis2=eucledian(tf_idf_test2.values(),tf_idf2.values())\n",
        "dis3=eucledian(tf_idf_test2.values(),tf_idf3.values())\n",
        "dis4=eucledian(tf_idf_test2.values(),tf_idf4.values())\n",
        "print(min(dis1,dis2,dis3,dis4))\n",
        "print(dis1,dis2,dis3,dis4)"
      ],
      "metadata": {
        "id": "OVgRzsmKGqu9",
        "outputId": "f7ce5185-1992-4495-bb50-00eb7e211758",
        "colab": {
          "base_uri": "https://localhost:8080/"
        }
      },
      "execution_count": null,
      "outputs": [
        {
          "output_type": "stream",
          "name": "stdout",
          "text": [
            "0.09454242366663253\n",
            "0.09726959176526488 0.09942614812476033 0.09846354826990066 0.09454242366663253\n"
          ]
        }
      ]
    },
    {
      "cell_type": "code",
      "source": [
        ""
      ],
      "metadata": {
        "id": "QDtTHmkmGspv"
      },
      "execution_count": null,
      "outputs": []
    }
  ]
}